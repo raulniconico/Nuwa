{
 "cells": [
  {
   "cell_type": "code",
   "execution_count": 6,
   "outputs": [],
   "source": [
    "from inspect import signature\n",
    "\n",
    "import numpy as np\n",
    "from numpy import ndarray\n",
    "#\n",
    "import pycuda.driver as cuda\n",
    "import pycuda.autoinit\n",
    "from pycuda.compiler import SourceModule\n",
    "import pycuda.gpuarray as gpuarray\n",
    "\n",
    "import shell.shell\n",
    "import shell.utils\n",
    "\n",
    "import cProfile\n",
    "import skcuda.linalg"
   ],
   "metadata": {
    "collapsed": false,
    "pycharm": {
     "name": "#%%\n"
    }
   }
  },
  {
   "cell_type": "code",
   "execution_count": 7,
   "outputs": [],
   "source": [
    "from Ottergrad.autograd import Tensor\n",
    "from Ottergrad.autograd import Func\n"
   ],
   "metadata": {
    "collapsed": false,
    "pycharm": {
     "name": "#%%\n"
    }
   }
  },
  {
   "cell_type": "code",
   "execution_count": 8,
   "outputs": [
    {
     "name": "stdout",
     "output_type": "stream",
     "text": [
      "ASYNC_ENGINE_COUNT 3\n",
      "CAN_MAP_HOST_MEMORY 1\n",
      "CLOCK_RATE 1200000\n",
      "COMPUTE_CAPABILITY_MAJOR 7\n",
      "COMPUTE_CAPABILITY_MINOR 5\n",
      "COMPUTE_MODE DEFAULT\n",
      "CONCURRENT_KERNELS 1\n",
      "ECC_ENABLED 0\n",
      "GLOBAL_L1_CACHE_SUPPORTED 1\n",
      "GLOBAL_MEMORY_BUS_WIDTH 192\n",
      "GPU_OVERLAP 1\n",
      "INTEGRATED 0\n",
      "KERNEL_EXEC_TIMEOUT 1\n",
      "L2_CACHE_SIZE 3145728\n",
      "LOCAL_L1_CACHE_SUPPORTED 1\n",
      "MANAGED_MEMORY 1\n",
      "MAXIMUM_SURFACE1D_LAYERED_LAYERS 2048\n",
      "MAXIMUM_SURFACE1D_LAYERED_WIDTH 32768\n",
      "MAXIMUM_SURFACE1D_WIDTH 32768\n",
      "MAXIMUM_SURFACE2D_HEIGHT 65536\n",
      "MAXIMUM_SURFACE2D_LAYERED_HEIGHT 32768\n",
      "MAXIMUM_SURFACE2D_LAYERED_LAYERS 2048\n",
      "MAXIMUM_SURFACE2D_LAYERED_WIDTH 32768\n",
      "MAXIMUM_SURFACE2D_WIDTH 131072\n",
      "MAXIMUM_SURFACE3D_DEPTH 16384\n",
      "MAXIMUM_SURFACE3D_HEIGHT 16384\n",
      "MAXIMUM_SURFACE3D_WIDTH 16384\n",
      "MAXIMUM_SURFACECUBEMAP_LAYERED_LAYERS 2046\n",
      "MAXIMUM_SURFACECUBEMAP_LAYERED_WIDTH 32768\n",
      "MAXIMUM_SURFACECUBEMAP_WIDTH 32768\n",
      "MAXIMUM_TEXTURE1D_LAYERED_LAYERS 2048\n",
      "MAXIMUM_TEXTURE1D_LAYERED_WIDTH 32768\n",
      "MAXIMUM_TEXTURE1D_LINEAR_WIDTH 268435456\n",
      "MAXIMUM_TEXTURE1D_MIPMAPPED_WIDTH 32768\n",
      "MAXIMUM_TEXTURE1D_WIDTH 131072\n",
      "MAXIMUM_TEXTURE2D_ARRAY_HEIGHT 32768\n",
      "MAXIMUM_TEXTURE2D_ARRAY_NUMSLICES 2048\n",
      "MAXIMUM_TEXTURE2D_ARRAY_WIDTH 32768\n",
      "MAXIMUM_TEXTURE2D_GATHER_HEIGHT 32768\n",
      "MAXIMUM_TEXTURE2D_GATHER_WIDTH 32768\n",
      "MAXIMUM_TEXTURE2D_HEIGHT 65536\n",
      "MAXIMUM_TEXTURE2D_LINEAR_HEIGHT 65000\n",
      "MAXIMUM_TEXTURE2D_LINEAR_PITCH 2097120\n",
      "MAXIMUM_TEXTURE2D_LINEAR_WIDTH 131072\n",
      "MAXIMUM_TEXTURE2D_MIPMAPPED_HEIGHT 32768\n",
      "MAXIMUM_TEXTURE2D_MIPMAPPED_WIDTH 32768\n",
      "MAXIMUM_TEXTURE2D_WIDTH 131072\n",
      "MAXIMUM_TEXTURE3D_DEPTH 16384\n",
      "MAXIMUM_TEXTURE3D_DEPTH_ALTERNATE 32768\n",
      "MAXIMUM_TEXTURE3D_HEIGHT 16384\n",
      "MAXIMUM_TEXTURE3D_HEIGHT_ALTERNATE 8192\n",
      "MAXIMUM_TEXTURE3D_WIDTH 16384\n",
      "MAXIMUM_TEXTURE3D_WIDTH_ALTERNATE 8192\n",
      "MAXIMUM_TEXTURECUBEMAP_LAYERED_LAYERS 2046\n",
      "MAXIMUM_TEXTURECUBEMAP_LAYERED_WIDTH 32768\n",
      "MAXIMUM_TEXTURECUBEMAP_WIDTH 32768\n",
      "MAX_BLOCK_DIM_X 1024\n",
      "MAX_BLOCK_DIM_Y 1024\n",
      "MAX_BLOCK_DIM_Z 64\n",
      "MAX_GRID_DIM_X 2147483647\n",
      "MAX_GRID_DIM_Y 65535\n",
      "MAX_GRID_DIM_Z 65535\n",
      "MAX_PITCH 2147483647\n",
      "MAX_REGISTERS_PER_BLOCK 65536\n",
      "MAX_REGISTERS_PER_MULTIPROCESSOR 65536\n",
      "MAX_SHARED_MEMORY_PER_BLOCK 49152\n",
      "MAX_SHARED_MEMORY_PER_MULTIPROCESSOR 65536\n",
      "MAX_THREADS_PER_BLOCK 1024\n",
      "MAX_THREADS_PER_MULTIPROCESSOR 1024\n",
      "MEMORY_CLOCK_RATE 7001000\n",
      "MULTIPROCESSOR_COUNT 30\n",
      "MULTI_GPU_BOARD 0\n",
      "MULTI_GPU_BOARD_GROUP_ID 0\n",
      "PCI_BUS_ID 1\n",
      "PCI_DEVICE_ID 0\n",
      "PCI_DOMAIN_ID 0\n",
      "STREAM_PRIORITIES_SUPPORTED 1\n",
      "SURFACE_ALIGNMENT 512\n",
      "TCC_DRIVER 0\n",
      "TEXTURE_ALIGNMENT 512\n",
      "TEXTURE_PITCH_ALIGNMENT 32\n",
      "TOTAL_CONSTANT_MEMORY 65536\n",
      "UNIFIED_ADDRESSING 1\n",
      "WARP_SIZE 32\n"
     ]
    }
   ],
   "source": [
    "\n",
    "\n",
    "gpu_device = cuda.Device(0)\n",
    "device_attributes_tuples = gpu_device.get_attributes().items()\n",
    "for item, count in device_attributes_tuples:\n",
    "    print(item, count)"
   ],
   "metadata": {
    "collapsed": false,
    "pycharm": {
     "name": "#%%\n"
    }
   }
  },
  {
   "cell_type": "code",
   "execution_count": 9,
   "outputs": [
    {
     "name": "stdout",
     "output_type": "stream",
     "text": [
      "[[5. 5. 5. 5. 5.]]\n",
      "[[5. 5. 5. 5. 5.]]\n"
     ]
    }
   ],
   "source": [
    "skcuda.linalg.init()\n",
    "W = np.ones((5,5), dtype=np.float32)\n",
    "x = np.ones((1,5), dtype=np.float32)\n",
    "W_gpu = gpuarray.to_gpu(W)\n",
    "x_gpu = gpuarray.to_gpu(x)\n",
    "a = np.dot(x, W)\n",
    "print(a)\n",
    "a = skcuda.linalg.dot(x_gpu, W_gpu)\n",
    "print(a)"
   ],
   "metadata": {
    "collapsed": false,
    "pycharm": {
     "name": "#%%\n"
    }
   }
  },
  {
   "cell_type": "code",
   "execution_count": 10,
   "outputs": [
    {
     "data": {
      "text/plain": "<Ottergrad.autograd.Tensor at 0x7f4c63fc6e00>"
     },
     "execution_count": 10,
     "metadata": {},
     "output_type": "execute_result"
    }
   ],
   "source": [
    "\n",
    "W_cpu = Tensor(np.ones((5,5)), device=\"cpu\")\n",
    "x_cpu = Tensor(np.ones((1,5)), device=\"cpu\")\n",
    "func_cpu = x_cpu@W_cpu\n",
    "func_cpu = Func(func_cpu)\n",
    "func_cpu.forward()\n",
    "func_cpu.backward()\n",
    "# print(W.getgrad())"
   ],
   "metadata": {
    "collapsed": false,
    "pycharm": {
     "name": "#%%\n"
    }
   }
  },
  {
   "cell_type": "code",
   "execution_count": 12,
   "outputs": [
    {
     "data": {
      "text/plain": "array([[ True,  True,  True,  True,  True],\n       [ True,  True,  True,  True,  True],\n       [ True,  True,  True,  True,  True],\n       [ True,  True,  True,  True,  True],\n       [ True,  True,  True,  True,  True]])"
     },
     "execution_count": 12,
     "metadata": {},
     "output_type": "execute_result"
    }
   ],
   "source": [
    "\n",
    "W = Tensor(np.ones((5,5)), device=\"gpu\")\n",
    "x = Tensor(np.ones((1,5)), device=\"gpu\")\n",
    "func = x@W\n",
    "func = Func(func)\n",
    "func.forward()\n",
    "func.backward()\n",
    "# print(W.getgrad())\n",
    "W_cpu.getgrad() == W.getgrad().get()"
   ],
   "metadata": {
    "collapsed": false,
    "pycharm": {
     "name": "#%%\n"
    }
   }
  },
  {
   "cell_type": "code",
   "execution_count": null,
   "outputs": [],
   "source": [],
   "metadata": {
    "collapsed": false,
    "pycharm": {
     "name": "#%%\n"
    }
   }
  }
 ],
 "metadata": {
  "kernelspec": {
   "display_name": "Python 3",
   "language": "python",
   "name": "python3"
  },
  "language_info": {
   "codemirror_mode": {
    "name": "ipython",
    "version": 2
   },
   "file_extension": ".py",
   "mimetype": "text/x-python",
   "name": "python",
   "nbconvert_exporter": "python",
   "pygments_lexer": "ipython2",
   "version": "2.7.6"
  }
 },
 "nbformat": 4,
 "nbformat_minor": 0
}